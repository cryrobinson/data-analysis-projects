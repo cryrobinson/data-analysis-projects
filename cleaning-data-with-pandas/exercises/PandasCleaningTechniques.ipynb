{
 "cells": [
  {
   "cell_type": "markdown",
   "metadata": {},
   "source": [
    "# Cleaning Data with Pandas Exercises\n",
    "\n",
    "For the exercises, you will be cleaning data in the Women's Clothing E-Commerce Reviews dataset.\n",
    "\n",
    "To start cleaning data, we first need to create a dataframe from the CSV and print out any relevant info to make sure our dataframe is ready to go."
   ]
  },
  {
   "cell_type": "code",
   "execution_count": 16,
   "metadata": {},
   "outputs": [],
   "source": [
    "# Import pandas and any other libraries you need here.\n",
    "import pandas as pd\n",
    "# Create a new dataframe from your CSV\n",
    "women_df = pd.read_csv(\"Womens Clothing E-Commerce Reviews.csv\")\n"
   ]
  },
  {
   "cell_type": "code",
   "execution_count": 17,
   "metadata": {},
   "outputs": [
    {
     "name": "stdout",
     "output_type": "stream",
     "text": [
      "   Unnamed: 0  Clothing ID  Age             Title  \\\n",
      "0        8327         1078   99  Beachy and boho!   \n",
      "1       11545          949   99               NaN   \n",
      "2        6543         1095   94               NaN   \n",
      "3       18036         1094   94               NaN   \n",
      "4       18563         1094   94      Great dress!   \n",
      "\n",
      "                                         Review_Text  Rating  Recommended IND  \\\n",
      "0  I love the weight of the material; sometimes c...       5                1   \n",
      "1  Great quality, i didn't expect the neck to be ...       4                1   \n",
      "2  Flattering! i love how it looks like a maxi dr...       4                1   \n",
      "3  Dress just did not fit will around the hips.  ...       1                0   \n",
      "4  This dress is very comfortable, not itchy at a...       5                1   \n",
      "\n",
      "   Positive Feedback Count Division Name Department Name Class Name  \n",
      "0                        1       General         Dresses    Dresses  \n",
      "1                        4       General            Tops   Sweaters  \n",
      "2                        0       General         Dresses    Dresses  \n",
      "3                        0       General         Dresses    Dresses  \n",
      "4                        1       General         Dresses    Dresses  \n"
     ]
    }
   ],
   "source": [
    "# Print out any information you need to understand your dataframe\n",
    "print(women_df.head())"
   ]
  },
  {
   "cell_type": "markdown",
   "metadata": {},
   "source": [
    "## Missing Data\n",
    "\n",
    "Try out different methods to locate and resolve missing data."
   ]
  },
  {
   "cell_type": "code",
   "execution_count": 18,
   "metadata": {},
   "outputs": [
    {
     "name": "stdout",
     "output_type": "stream",
     "text": [
      "       Unnamed: 0  Clothing ID  Age                              Title  \\\n",
      "0            8327         1078   99                   Beachy and boho!   \n",
      "1           11545          949   99                                  0   \n",
      "2            6543         1095   94                                  0   \n",
      "3           18036         1094   94                                  0   \n",
      "4           18563         1094   94                       Great dress!   \n",
      "...           ...          ...  ...                                ...   \n",
      "23481       23131         1062   19                  Perfect jumpsuit!   \n",
      "23482        8858         1094   18                               Love   \n",
      "23483       19704         1008   18                           Stunning   \n",
      "23484       22364         1072   18          I get so many compliments   \n",
      "23485       22390          868   18  A little big, but so comfortable!   \n",
      "\n",
      "                                             Review_Text  Rating  \\\n",
      "0      I love the weight of the material; sometimes c...       5   \n",
      "1      Great quality, i didn't expect the neck to be ...       4   \n",
      "2      Flattering! i love how it looks like a maxi dr...       4   \n",
      "3      Dress just did not fit will around the hips.  ...       1   \n",
      "4      This dress is very comfortable, not itchy at a...       5   \n",
      "...                                                  ...     ...   \n",
      "23481  I have been looking for the perfect jumpsuit a...       5   \n",
      "23482  I bought this dress for my engagement photo sh...       5   \n",
      "23483  This skirt is absolutely beautiful and is a go...       5   \n",
      "23484  I found this dress on sale in store and i usua...       4   \n",
      "23485  This shirt is incredibly comfortable. the mate...       4   \n",
      "\n",
      "       Recommended IND  Positive Feedback Count Division Name Department Name  \\\n",
      "0                    1                        1       General         Dresses   \n",
      "1                    1                        4       General            Tops   \n",
      "2                    1                        0       General         Dresses   \n",
      "3                    0                        0       General         Dresses   \n",
      "4                    1                        1       General         Dresses   \n",
      "...                ...                      ...           ...             ...   \n",
      "23481                1                        3       General         Bottoms   \n",
      "23482                1                        0       General         Dresses   \n",
      "23483                1                        1       General         Bottoms   \n",
      "23484                1                        0       General         Dresses   \n",
      "23485                1                        0       General            Tops   \n",
      "\n",
      "      Class Name  \n",
      "0        Dresses  \n",
      "1       Sweaters  \n",
      "2        Dresses  \n",
      "3        Dresses  \n",
      "4        Dresses  \n",
      "...          ...  \n",
      "23481      Pants  \n",
      "23482    Dresses  \n",
      "23483     Skirts  \n",
      "23484    Dresses  \n",
      "23485      Knits  \n",
      "\n",
      "[23486 rows x 11 columns]\n"
     ]
    }
   ],
   "source": [
    "# Try to find some missing data!\n",
    "print(women_df.fillna(0))"
   ]
  },
  {
   "cell_type": "markdown",
   "metadata": {},
   "source": [
    "Did you find any missing data? What things worked well for you and what did not?"
   ]
  },
  {
   "cell_type": "code",
   "execution_count": 5,
   "metadata": {},
   "outputs": [
    {
     "ename": "SyntaxError",
     "evalue": "invalid syntax (4255345208.py, line 2)",
     "output_type": "error",
     "traceback": [
      "\u001b[0;36m  Cell \u001b[0;32mIn[5], line 2\u001b[0;36m\u001b[0m\n\u001b[0;31m    I found missing data, yes. Using a blanket isna() worked fine.\u001b[0m\n\u001b[0m      ^\u001b[0m\n\u001b[0;31mSyntaxError\u001b[0m\u001b[0;31m:\u001b[0m invalid syntax\n"
     ]
    }
   ],
   "source": [
    "# Respond to the above questions here:\n",
    "I found missing data, yes. Using a blanket isna() worked fine. "
   ]
  },
  {
   "cell_type": "markdown",
   "metadata": {},
   "source": [
    "## Irregular Data\n",
    "\n",
    "With missing data out of the way, turn your attention to any outliers. Just as we did for missing data, we first need to detect the outliers."
   ]
  },
  {
   "cell_type": "code",
   "execution_count": 19,
   "metadata": {},
   "outputs": [
    {
     "data": {
      "text/plain": [
       "<Axes: ylabel='Frequency'>"
      ]
     },
     "execution_count": 19,
     "metadata": {},
     "output_type": "execute_result"
    },
    {
     "data": {
      "image/png": "[encoded data removed]",
      "text/plain": [
       "<Figure size 640x480 with 1 Axes>"
      ]
     },
     "metadata": {},
     "output_type": "display_data"
    }
   ],
   "source": [
    "# Keep an eye out for outliers!\n",
    "women_df.plot.hist(column=\"Age\")"
   ]
  },
  {
   "cell_type": "markdown",
   "metadata": {},
   "source": [
    "What techniques helped you find outliers? In your opinion, what about the techniques you used made them effective?"
   ]
  },
  {
   "cell_type": "code",
   "execution_count": 20,
   "metadata": {},
   "outputs": [
    {
     "ename": "SyntaxError",
     "evalue": "invalid syntax (772975891.py, line 2)",
     "output_type": "error",
     "traceback": [
      "\u001b[0;36m  Cell \u001b[0;32mIn[20], line 2\u001b[0;36m\u001b[0m\n\u001b[0;31m    I found the plot.hist to be the most useful in this instance.\u001b[0m\n\u001b[0m      ^\u001b[0m\n\u001b[0;31mSyntaxError\u001b[0m\u001b[0;31m:\u001b[0m invalid syntax\n"
     ]
    }
   ],
   "source": [
    "# Make your notes here:\n",
    "I found the plot.hist to be the most useful in this instance."
   ]
  },
  {
   "cell_type": "markdown",
   "metadata": {},
   "source": [
    "## Unnecessary Data\n",
    "\n",
    "Unnecessary data could be irrelevant to your analysis or a duplice column. Check out the dataset to see if there is any unnecessary data."
   ]
  },
  {
   "cell_type": "code",
   "execution_count": 22,
   "metadata": {},
   "outputs": [
    {
     "data": {
      "text/html": [
       "<div>\n",
       "<style scoped>\n",
       "    .dataframe tbody tr th:only-of-type {\n",
       "        vertical-align: middle;\n",
       "    }\n",
       "\n",
       "    .dataframe tbody tr th {\n",
       "        vertical-align: top;\n",
       "    }\n",
       "\n",
       "    .dataframe thead th {\n",
       "        text-align: right;\n",
       "    }\n",
       "</style>\n",
       "<table border=\"1\" class=\"dataframe\">\n",
       "  <thead>\n",
       "    <tr style=\"text-align: right;\">\n",
       "      <th></th>\n",
       "      <th>Unnamed: 0</th>\n",
       "      <th>Clothing ID</th>\n",
       "      <th>Age</th>\n",
       "      <th>Review_Text</th>\n",
       "      <th>Rating</th>\n",
       "      <th>Recommended IND</th>\n",
       "      <th>Positive Feedback Count</th>\n",
       "      <th>Division Name</th>\n",
       "      <th>Department Name</th>\n",
       "      <th>Class Name</th>\n",
       "    </tr>\n",
       "  </thead>\n",
       "  <tbody>\n",
       "    <tr>\n",
       "      <th>0</th>\n",
       "      <td>8327</td>\n",
       "      <td>1078</td>\n",
       "      <td>99</td>\n",
       "      <td>I love the weight of the material; sometimes c...</td>\n",
       "      <td>5</td>\n",
       "      <td>1</td>\n",
       "      <td>1</td>\n",
       "      <td>General</td>\n",
       "      <td>Dresses</td>\n",
       "      <td>Dresses</td>\n",
       "    </tr>\n",
       "    <tr>\n",
       "      <th>1</th>\n",
       "      <td>11545</td>\n",
       "      <td>949</td>\n",
       "      <td>99</td>\n",
       "      <td>Great quality, i didn't expect the neck to be ...</td>\n",
       "      <td>4</td>\n",
       "      <td>1</td>\n",
       "      <td>4</td>\n",
       "      <td>General</td>\n",
       "      <td>Tops</td>\n",
       "      <td>Sweaters</td>\n",
       "    </tr>\n",
       "    <tr>\n",
       "      <th>2</th>\n",
       "      <td>6543</td>\n",
       "      <td>1095</td>\n",
       "      <td>94</td>\n",
       "      <td>Flattering! i love how it looks like a maxi dr...</td>\n",
       "      <td>4</td>\n",
       "      <td>1</td>\n",
       "      <td>0</td>\n",
       "      <td>General</td>\n",
       "      <td>Dresses</td>\n",
       "      <td>Dresses</td>\n",
       "    </tr>\n",
       "    <tr>\n",
       "      <th>3</th>\n",
       "      <td>18036</td>\n",
       "      <td>1094</td>\n",
       "      <td>94</td>\n",
       "      <td>Dress just did not fit will around the hips.  ...</td>\n",
       "      <td>1</td>\n",
       "      <td>0</td>\n",
       "      <td>0</td>\n",
       "      <td>General</td>\n",
       "      <td>Dresses</td>\n",
       "      <td>Dresses</td>\n",
       "    </tr>\n",
       "    <tr>\n",
       "      <th>4</th>\n",
       "      <td>18563</td>\n",
       "      <td>1094</td>\n",
       "      <td>94</td>\n",
       "      <td>This dress is very comfortable, not itchy at a...</td>\n",
       "      <td>5</td>\n",
       "      <td>1</td>\n",
       "      <td>1</td>\n",
       "      <td>General</td>\n",
       "      <td>Dresses</td>\n",
       "      <td>Dresses</td>\n",
       "    </tr>\n",
       "    <tr>\n",
       "      <th>...</th>\n",
       "      <td>...</td>\n",
       "      <td>...</td>\n",
       "      <td>...</td>\n",
       "      <td>...</td>\n",
       "      <td>...</td>\n",
       "      <td>...</td>\n",
       "      <td>...</td>\n",
       "      <td>...</td>\n",
       "      <td>...</td>\n",
       "      <td>...</td>\n",
       "    </tr>\n",
       "    <tr>\n",
       "      <th>23481</th>\n",
       "      <td>23131</td>\n",
       "      <td>1062</td>\n",
       "      <td>19</td>\n",
       "      <td>I have been looking for the perfect jumpsuit a...</td>\n",
       "      <td>5</td>\n",
       "      <td>1</td>\n",
       "      <td>3</td>\n",
       "      <td>General</td>\n",
       "      <td>Bottoms</td>\n",
       "      <td>Pants</td>\n",
       "    </tr>\n",
       "    <tr>\n",
       "      <th>23482</th>\n",
       "      <td>8858</td>\n",
       "      <td>1094</td>\n",
       "      <td>18</td>\n",
       "      <td>I bought this dress for my engagement photo sh...</td>\n",
       "      <td>5</td>\n",
       "      <td>1</td>\n",
       "      <td>0</td>\n",
       "      <td>General</td>\n",
       "      <td>Dresses</td>\n",
       "      <td>Dresses</td>\n",
       "    </tr>\n",
       "    <tr>\n",
       "      <th>23483</th>\n",
       "      <td>19704</td>\n",
       "      <td>1008</td>\n",
       "      <td>18</td>\n",
       "      <td>This skirt is absolutely beautiful and is a go...</td>\n",
       "      <td>5</td>\n",
       "      <td>1</td>\n",
       "      <td>1</td>\n",
       "      <td>General</td>\n",
       "      <td>Bottoms</td>\n",
       "      <td>Skirts</td>\n",
       "    </tr>\n",
       "    <tr>\n",
       "      <th>23484</th>\n",
       "      <td>22364</td>\n",
       "      <td>1072</td>\n",
       "      <td>18</td>\n",
       "      <td>I found this dress on sale in store and i usua...</td>\n",
       "      <td>4</td>\n",
       "      <td>1</td>\n",
       "      <td>0</td>\n",
       "      <td>General</td>\n",
       "      <td>Dresses</td>\n",
       "      <td>Dresses</td>\n",
       "    </tr>\n",
       "    <tr>\n",
       "      <th>23485</th>\n",
       "      <td>22390</td>\n",
       "      <td>868</td>\n",
       "      <td>18</td>\n",
       "      <td>This shirt is incredibly comfortable. the mate...</td>\n",
       "      <td>4</td>\n",
       "      <td>1</td>\n",
       "      <td>0</td>\n",
       "      <td>General</td>\n",
       "      <td>Tops</td>\n",
       "      <td>Knits</td>\n",
       "    </tr>\n",
       "  </tbody>\n",
       "</table>\n",
       "<p>23486 rows × 10 columns</p>\n",
       "</div>"
      ],
      "text/plain": [
       "       Unnamed: 0  Clothing ID  Age  \\\n",
       "0            8327         1078   99   \n",
       "1           11545          949   99   \n",
       "2            6543         1095   94   \n",
       "3           18036         1094   94   \n",
       "4           18563         1094   94   \n",
       "...           ...          ...  ...   \n",
       "23481       23131         1062   19   \n",
       "23482        8858         1094   18   \n",
       "23483       19704         1008   18   \n",
       "23484       22364         1072   18   \n",
       "23485       22390          868   18   \n",
       "\n",
       "                                             Review_Text  Rating  \\\n",
       "0      I love the weight of the material; sometimes c...       5   \n",
       "1      Great quality, i didn't expect the neck to be ...       4   \n",
       "2      Flattering! i love how it looks like a maxi dr...       4   \n",
       "3      Dress just did not fit will around the hips.  ...       1   \n",
       "4      This dress is very comfortable, not itchy at a...       5   \n",
       "...                                                  ...     ...   \n",
       "23481  I have been looking for the perfect jumpsuit a...       5   \n",
       "23482  I bought this dress for my engagement photo sh...       5   \n",
       "23483  This skirt is absolutely beautiful and is a go...       5   \n",
       "23484  I found this dress on sale in store and i usua...       4   \n",
       "23485  This shirt is incredibly comfortable. the mate...       4   \n",
       "\n",
       "       Recommended IND  Positive Feedback Count Division Name Department Name  \\\n",
       "0                    1                        1       General         Dresses   \n",
       "1                    1                        4       General            Tops   \n",
       "2                    1                        0       General         Dresses   \n",
       "3                    0                        0       General         Dresses   \n",
       "4                    1                        1       General         Dresses   \n",
       "...                ...                      ...           ...             ...   \n",
       "23481                1                        3       General         Bottoms   \n",
       "23482                1                        0       General         Dresses   \n",
       "23483                1                        1       General         Bottoms   \n",
       "23484                1                        0       General         Dresses   \n",
       "23485                1                        0       General            Tops   \n",
       "\n",
       "      Class Name  \n",
       "0        Dresses  \n",
       "1       Sweaters  \n",
       "2        Dresses  \n",
       "3        Dresses  \n",
       "4        Dresses  \n",
       "...          ...  \n",
       "23481      Pants  \n",
       "23482    Dresses  \n",
       "23483     Skirts  \n",
       "23484    Dresses  \n",
       "23485      Knits  \n",
       "\n",
       "[23486 rows x 10 columns]"
      ]
     },
     "execution_count": 22,
     "metadata": {},
     "output_type": "execute_result"
    }
   ],
   "source": [
    "# Look out for unnecessary data!\n",
    "women_df.drop(columns=['Title'])"
   ]
  },
  {
   "cell_type": "markdown",
   "metadata": {},
   "source": [
    "Did you find any unnecessary data in your dataset? How did you handle it?"
   ]
  },
  {
   "cell_type": "code",
   "execution_count": null,
   "metadata": {},
   "outputs": [],
   "source": [
    "# Make your notes here.\n",
    "I found the review titles to be unnecessary, and mostly null values. Due to this, I found it best to remove this column from the dataset. "
   ]
  },
  {
   "cell_type": "markdown",
   "metadata": {},
   "source": [
    "## Inconsistent Data\n",
    "\n",
    "Inconsistent data is likely due to inconsistent formatting and can be addressed by re-formatting all values in a column or row."
   ]
  },
  {
   "cell_type": "code",
   "execution_count": 23,
   "metadata": {},
   "outputs": [
    {
     "name": "stdout",
     "output_type": "stream",
     "text": [
      "       Unnamed: 0  Clothing ID  Age                              Title  \\\n",
      "0            8327         1078   99                   Beachy and boho!   \n",
      "1           11545          949   99                                NaN   \n",
      "2            6543         1095   94                                NaN   \n",
      "3           18036         1094   94                                NaN   \n",
      "4           18563         1094   94                       Great dress!   \n",
      "...           ...          ...  ...                                ...   \n",
      "23481       23131         1062   19                  Perfect jumpsuit!   \n",
      "23482        8858         1094   18                               Love   \n",
      "23483       19704         1008   18                           Stunning   \n",
      "23484       22364         1072   18          I get so many compliments   \n",
      "23485       22390          868   18  A little big, but so comfortable!   \n",
      "\n",
      "       Review_Text  Rating  Recommended IND  Positive Feedback Count  \\\n",
      "0             True       5                1                        1   \n",
      "1             True       4                1                        4   \n",
      "2             True       4                1                        0   \n",
      "3             True       1                0                        0   \n",
      "4             True       5                1                        1   \n",
      "...            ...     ...              ...                      ...   \n",
      "23481         True       5                1                        3   \n",
      "23482         True       5                1                        0   \n",
      "23483         True       5                1                        1   \n",
      "23484         True       4                1                        0   \n",
      "23485         True       4                1                        0   \n",
      "\n",
      "      Division Name Department Name Class Name  \n",
      "0           General         Dresses    Dresses  \n",
      "1           General            Tops   Sweaters  \n",
      "2           General         Dresses    Dresses  \n",
      "3           General         Dresses    Dresses  \n",
      "4           General         Dresses    Dresses  \n",
      "...             ...             ...        ...  \n",
      "23481       General         Bottoms      Pants  \n",
      "23482       General         Dresses    Dresses  \n",
      "23483       General         Bottoms     Skirts  \n",
      "23484       General         Dresses    Dresses  \n",
      "23485       General            Tops      Knits  \n",
      "\n",
      "[23486 rows x 11 columns]\n"
     ]
    }
   ],
   "source": [
    "# Look out for inconsistent data!\n",
    "women_df.Review_Text=women_df.Review_Text.astype('bool')\n",
    "print(women_df)"
   ]
  },
  {
   "cell_type": "markdown",
   "metadata": {},
   "source": [
    "Did you find any inconsistent data? What did you do to clean it?"
   ]
  },
  {
   "cell_type": "code",
   "execution_count": null,
   "metadata": {},
   "outputs": [],
   "source": [
    "# Make your notes here!\n",
    "After switching out my null values to fill with 0, it made the review section inconcsistent between reviews and 0's. So I corrected these 0 values by turning the column to a boolean. "
   ]
  }
 ],
 "metadata": {
  "kernelspec": {
   "display_name": "Python 3 (ipykernel)",
   "language": "python",
   "name": "python3"
  },
  "language_info": {
   "codemirror_mode": {
    "name": "ipython",
    "version": 3
   },
   "file_extension": ".py",
   "mimetype": "text/x-python",
   "name": "python",
   "nbconvert_exporter": "python",
   "pygments_lexer": "ipython3",
   "version": "3.12.4"
  }
 },
 "nbformat": 4,
 "nbformat_minor": 4
}
